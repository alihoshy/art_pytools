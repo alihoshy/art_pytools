{
 "cells": [
  {
   "cell_type": "markdown",
   "metadata": {},
   "source": [
    "# Collection of useful functions for working with ICON data\n",
    "\n"
   ]
  },
  {
   "cell_type": "code",
   "execution_count": 20,
   "metadata": {},
   "outputs": [],
   "source": [
    "import matplotlib.pyplot as plt\n",
    "import numpy as np\n",
    "import xarray as xr\n",
    "import cartopy.crs as ccrs\n",
    "import datetime"
   ]
  },
  {
   "cell_type": "code",
   "execution_count": 21,
   "metadata": {
    "code_folding": [
     0
    ]
   },
   "outputs": [],
   "source": [
    "def get_datetime(icontime):\n",
    "    \"\"\"\n",
    "    takes a float timevalue from icon data and returns that as a datetime object\n",
    "    arguments:\n",
    "        icontime: float containing icon time\n",
    "    \"\"\"\n",
    "    year = int(icontime // 10000)\n",
    "    month = int(icontime // 100 - year * 100)\n",
    "    day = int(icontime // 1 - year * 10000 - month * 100)\n",
    "    date = datetime.datetime(year,month,day)\n",
    "    time = datetime.timedelta(hours=24*(icontime%1))\n",
    "    out= date+time\n",
    "    return out"
   ]
  },
  {
   "cell_type": "code",
   "execution_count": 22,
   "metadata": {
    "code_folding": [
     0
    ]
   },
   "outputs": [],
   "source": [
    "def get_datetimes(icontimes):\n",
    "    \"\"\"\n",
    "    takes an array of timevalues from netcdf files and creates a datetime object\n",
    "    arguments: \n",
    "        icontimes: 1-D Array of icon floats for time\n",
    "    \"\"\"\n",
    "\n",
    "    out=[]\n",
    "    for i in icontimes:\n",
    "        year = int(i // 10000)\n",
    "        month = int(i // 100 - year * 100)\n",
    "        day = int(i // 1 - year * 10000 - month * 100)\n",
    "        date = datetime.datetime(year,month,day)\n",
    "        time = datetime.timedelta(hours=24*(i%1))\n",
    "        out.append(date+time)\n",
    "    return out"
   ]
  },
  {
   "cell_type": "code",
   "execution_count": 23,
   "metadata": {
    "code_folding": [
     0
    ]
   },
   "outputs": [],
   "source": [
    "def readgrid(path=\"/work/bb1070/b381019/Input/\",name=\"domain3_DOM02.nc\"):\n",
    "        \"\"\"\n",
    "        read Icon grid via xarray, converts radians to degrees\n",
    "        arguments \n",
    "            str(path): path to gridfile\n",
    "            str(name): name of gridfile\n",
    "        \"\"\"     \n",
    "        rad2deg = 180.0/np.pi\n",
    "        deg2rad = np.pi/180\n",
    "        ds_grid = ( xr.open_dataset(path+name))\n",
    "        # convert grid from radians to degrees\n",
    "        ds_grid['clon'] = ds_grid['clon']*rad2deg\n",
    "        ds_grid['clat'] = ds_grid['clat']*rad2deg\n",
    "        ds_grid['clon_vertices'] = ds_grid['clon_vertices']*rad2deg\n",
    "        ds_grid['clat_vertices'] = ds_grid['clat_vertices']*rad2deg\n",
    "        return ds_grid"
   ]
  },
  {
   "cell_type": "code",
   "execution_count": 24,
   "metadata": {
    "code_folding": [
     0
    ]
   },
   "outputs": [],
   "source": [
    "def NN_gridpoint(lon,lat,grid):\n",
    "    \"\"\"\n",
    "    performs Nearest Neighbor Mapping between grid and specified point\n",
    "    returns  closest gridpoint index\n",
    "    arguments:\n",
    "        lon: longitude of point you want NN mapped on grid\n",
    "        lat: latitude of point you want NN mapped on grid\n",
    "        grid: gridfile ,best read in via readgrid() \n",
    "    \"\"\"\n",
    "    \n",
    "    return np.argmin((grid[\"clon\"].values[:]-lon)**2+ (grid[\"clat\"].values[:]-lat)**2)"
   ]
  },
  {
   "cell_type": "code",
   "execution_count": 25,
   "metadata": {
    "code_folding": [
     0
    ]
   },
   "outputs": [],
   "source": [
    "def NN_gridpoints(coordinate,grid):\n",
    "    \"\"\"\n",
    "    performs Nearest Neighbor Mapping between grid and specified points\n",
    "    returns list of closest gridpoint indices\n",
    "    arguments:\n",
    "        grid: gridfile ,best read in via readgrid()\n",
    "        coordinate:  points np.array([[lon,lat],..,[lon,lat]]) you want the nearest gridpoints of\n",
    "    \"\"\"\n",
    "    gridpoints = np.zeros(len(coordinate))\n",
    "    \n",
    "    for i in range(len(coordinate)):\n",
    "        gridpoints[i] = np.argmin((grid[\"clon\"].values[:]-coordinate[i,0])**2\n",
    "                                + (grid[\"clat\"].values[:]-coordinate[i,1])**2)\n",
    "    gridpoints=np.array(gridpoints,dtype=int)\n",
    "    return gridpoints"
   ]
  },
  {
   "cell_type": "code",
   "execution_count": 18,
   "metadata": {},
   "outputs": [],
   "source": []
  },
  {
   "cell_type": "code",
   "execution_count": null,
   "metadata": {},
   "outputs": [],
   "source": []
  }
 ],
 "metadata": {
  "kernelspec": {
   "display_name": "Python 3 unstable (using the module python3/unstable)",
   "language": "python",
   "name": "python3_unstable"
  },
  "language_info": {
   "codemirror_mode": {
    "name": "ipython",
    "version": 3
   },
   "file_extension": ".py",
   "mimetype": "text/x-python",
   "name": "python",
   "nbconvert_exporter": "python",
   "pygments_lexer": "ipython3",
   "version": "3.7.8"
  },
  "varInspector": {
   "cols": {
    "lenName": 16,
    "lenType": 16,
    "lenVar": 40
   },
   "kernels_config": {
    "python": {
     "delete_cmd_postfix": "",
     "delete_cmd_prefix": "del ",
     "library": "var_list.py",
     "varRefreshCmd": "print(var_dic_list())"
    },
    "r": {
     "delete_cmd_postfix": ") ",
     "delete_cmd_prefix": "rm(",
     "library": "var_list.r",
     "varRefreshCmd": "cat(var_dic_list()) "
    }
   },
   "types_to_exclude": [
    "module",
    "function",
    "builtin_function_or_method",
    "instance",
    "_Feature"
   ],
   "window_display": false
  }
 },
 "nbformat": 4,
 "nbformat_minor": 4
}
